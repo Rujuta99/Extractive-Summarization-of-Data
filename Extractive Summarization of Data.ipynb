{
 "cells": [
  {
   "cell_type": "code",
   "execution_count": 17,
   "metadata": {},
   "outputs": [],
   "source": [
    "from nltk.corpus import stopwords\n",
    "from nltk.tokenize import word_tokenize, sent_tokenize"
   ]
  },
  {
   "cell_type": "code",
   "execution_count": 18,
   "metadata": {},
   "outputs": [
    {
     "name": "stdout",
     "output_type": "stream",
     "text": [
      "Enter the text to be summarized:\n",
      "A distributed system contains multiple nodes that are physically separate but linked together using the network. All the nodes in this system communicate with each other and handle processes in tandem. Each of these nodes contains a small part of the distributed operating system software.In client server systems, the client requests a resource and the server provides that resource. A server may serve multiple clients at the same time while a client is in contact with only one server. Both the client and server usually communicate via a computer network and so they are a part of distributed systems.The peer to peer systems contains nodes that are equal participants in data sharing. All the tasks are equally divided between all the nodes. The nodes interact with each other as required as share resources. This is done with the help of a network\n",
      "A distributed system contains multiple nodes that are physically separate but linked together using the network. All the nodes in this system communicate with each other and handle processes in tandem. Each of these nodes contains a small part of the distributed operating system software.In client server systems, the client requests a resource and the server provides that resource. A server may serve multiple clients at the same time while a client is in contact with only one server. Both the client and server usually communicate via a computer network and so they are a part of distributed systems.The peer to peer systems contains nodes that are equal participants in data sharing. All the tasks are equally divided between all the nodes. The nodes interact with each other as required as share resources. This is done with the help of a network\n"
     ]
    }
   ],
   "source": [
    "# Input text - to summarize \n",
    "print(\"Enter the text to be summarized:\")\n",
    "#text= \"A natural language or ordinary language is any language that has evolved naturally in humans through use and repetition without conscious planning or premeditation. Natural languages can take different forms, such as written text, speech or signing etc. They are distinguished from constructed and formal language such as those used to program computers or to study logic. Natural language processing (NLP) is a branch of artificial intelligence that helps computers understand, interpret and manipulate human language. NLP draws from many disciplines, including computer science and computational linguistics in its pursuit to fill the gap between human communication and computer understanding. Natural language processing is a field of research and application that determines the way computers can be used to understand and manage natural language text or speech to do useful things.\"\n",
    "text = input()\n",
    "print(text)"
   ]
  },
  {
   "cell_type": "code",
   "execution_count": 19,
   "metadata": {},
   "outputs": [
    {
     "name": "stdout",
     "output_type": "stream",
     "text": [
      "['A', 'distributed', 'system', 'contains', 'multiple', 'nodes', 'that', 'are', 'physically', 'separate', 'but', 'linked', 'together', 'using', 'the', 'network', '.', 'All', 'the', 'nodes', 'in', 'this', 'system', 'communicate', 'with', 'each', 'other', 'and', 'handle', 'processes', 'in', 'tandem', '.', 'Each', 'of', 'these', 'nodes', 'contains', 'a', 'small', 'part', 'of', 'the', 'distributed', 'operating', 'system', 'software.In', 'client', 'server', 'systems', ',', 'the', 'client', 'requests', 'a', 'resource', 'and', 'the', 'server', 'provides', 'that', 'resource', '.', 'A', 'server', 'may', 'serve', 'multiple', 'clients', 'at', 'the', 'same', 'time', 'while', 'a', 'client', 'is', 'in', 'contact', 'with', 'only', 'one', 'server', '.', 'Both', 'the', 'client', 'and', 'server', 'usually', 'communicate', 'via', 'a', 'computer', 'network', 'and', 'so', 'they', 'are', 'a', 'part', 'of', 'distributed', 'systems.The', 'peer', 'to', 'peer', 'systems', 'contains', 'nodes', 'that', 'are', 'equal', 'participants', 'in', 'data', 'sharing', '.', 'All', 'the', 'tasks', 'are', 'equally', 'divided', 'between', 'all', 'the', 'nodes', '.', 'The', 'nodes', 'interact', 'with', 'each', 'other', 'as', 'required', 'as', 'share', 'resources', '.', 'This', 'is', 'done', 'with', 'the', 'help', 'of', 'a', 'network']\n"
     ]
    }
   ],
   "source": [
    "stopWords = set(stopwords.words(\"english\"))\n",
    "words = word_tokenize(text)\n",
    "print(words)"
   ]
  },
  {
   "cell_type": "code",
   "execution_count": 20,
   "metadata": {},
   "outputs": [
    {
     "name": "stdout",
     "output_type": "stream",
     "text": [
      "{'distributed': 3, 'system': 3, 'contains': 3, 'multiple': 2, 'nodes': 6, 'physically': 1, 'separate': 1, 'linked': 1, 'together': 1, 'using': 1, 'network': 3, '.': 7, 'communicate': 2, 'handle': 1, 'processes': 1, 'tandem': 1, 'small': 1, 'part': 2, 'operating': 1, 'software.in': 1, 'client': 4, 'server': 5, 'systems': 2, ',': 1, 'requests': 1, 'resource': 2, 'provides': 1, 'may': 1, 'serve': 1, 'clients': 1, 'time': 1, 'contact': 1, 'one': 1, 'usually': 1, 'via': 1, 'computer': 1, 'systems.the': 1, 'peer': 2, 'equal': 1, 'participants': 1, 'data': 1, 'sharing': 1, 'tasks': 1, 'equally': 1, 'divided': 1, 'interact': 1, 'required': 1, 'share': 1, 'resources': 1, 'done': 1, 'help': 1}\n"
     ]
    }
   ],
   "source": [
    "# Creating a frequency table to keep the score of each word\n",
    "\n",
    "freqTable = dict()\n",
    "for word in words:\n",
    "    word = word.lower()\n",
    "    if word in stopWords:\n",
    "        continue\n",
    "    if word in freqTable:\n",
    "        freqTable[word] += 1\n",
    "    else:\n",
    "        freqTable[word] = 1\n",
    "print(freqTable)"
   ]
  },
  {
   "cell_type": "code",
   "execution_count": 21,
   "metadata": {},
   "outputs": [],
   "source": [
    "# Tokenizing the text\n",
    "sentences = sent_tokenize(text)\n",
    "sentenceValue = dict()"
   ]
  },
  {
   "cell_type": "code",
   "execution_count": 22,
   "metadata": {},
   "outputs": [
    {
     "name": "stdout",
     "output_type": "stream",
     "text": [
      "{'A distributed system contains multiple nodes that are physically separate but linked together using the network.': 32, 'All the nodes in this system communicate with each other and handle processes in tandem.': 21, 'Each of these nodes contains a small part of the distributed operating system software.In client server systems, the client requests a resource and the server provides that resource.': 44, 'A server may serve multiple clients at the same time while a client is in contact with only one server.': 24, 'Both the client and server usually communicate via a computer network and so they are a part of distributed systems.The peer to peer systems contains nodes that are equal participants in data sharing.': 51, 'All the tasks are equally divided between all the nodes.': 17, 'The nodes interact with each other as required as share resources.': 19, 'This is done with the help of a network': 6}\n"
     ]
    }
   ],
   "source": [
    "# Creating a dictionary to keep the score of each sentence\n",
    "for sentence in sentences:\n",
    "    for word, freq in freqTable.items():\n",
    "        if word in sentence.lower():\n",
    "            if sentence in sentenceValue:\n",
    "                sentenceValue[sentence] += freq\n",
    "            else:\n",
    "                sentenceValue[sentence] = freq\n",
    "print(sentenceValue)"
   ]
  },
  {
   "cell_type": "code",
   "execution_count": 23,
   "metadata": {},
   "outputs": [
    {
     "name": "stdout",
     "output_type": "stream",
     "text": [
      "214\n"
     ]
    }
   ],
   "source": [
    "sumValues = 0\n",
    "for sentence in sentenceValue:\n",
    "    sumValues += sentenceValue[sentence]\n",
    "    \n",
    "print(sumValues)"
   ]
  },
  {
   "cell_type": "code",
   "execution_count": 24,
   "metadata": {},
   "outputs": [
    {
     "name": "stdout",
     "output_type": "stream",
     "text": [
      "26\n"
     ]
    }
   ],
   "source": [
    "# Average value of a sentence from the original text\n",
    "   \n",
    "average = int(sumValues / len(sentenceValue))\n",
    "print(average)"
   ]
  },
  {
   "cell_type": "code",
   "execution_count": 25,
   "metadata": {},
   "outputs": [
    {
     "name": "stdout",
     "output_type": "stream",
     "text": [
      "\n",
      "\n"
     ]
    }
   ],
   "source": [
    "# Storing sentences into our summary.\n",
    "summary = ''\n",
    "print(\"\\n\")\n",
    "for sentence in sentences:\n",
    "    if (sentence in sentenceValue) and (sentenceValue[sentence] > (average)):\n",
    "        summary += \" \" + sentence\n"
   ]
  },
  {
   "cell_type": "code",
   "execution_count": 26,
   "metadata": {},
   "outputs": [
    {
     "name": "stdout",
     "output_type": "stream",
     "text": [
      "Summarized text:\n",
      " A distributed system contains multiple nodes that are physically separate but linked together using the network. Each of these nodes contains a small part of the distributed operating system software.In client server systems, the client requests a resource and the server provides that resource. Both the client and server usually communicate via a computer network and so they are a part of distributed systems.The peer to peer systems contains nodes that are equal participants in data sharing.\n"
     ]
    }
   ],
   "source": [
    "print('Summarized text:')\n",
    "print(summary)"
   ]
  },
  {
   "cell_type": "code",
   "execution_count": 65,
   "metadata": {},
   "outputs": [
    {
     "data": {
      "text/plain": [
       "'A natural language or ordinary language is any language that has evolved naturally in humans through use and repetition without conscious planning or premeditation. Natural languages can take different forms, such as written text, speech or signing etc. They are distinguished from constructed and formal language such as those used to program computers or to study logic. Natural language processing (NLP) is a branch of artificial intelligence that helps computers understand, interpret and manipulate human language. NLP draws from many disciplines, including computer science and computational linguistics in its pursuit to fill the gap between human communication and computer understanding. Natural language processing is a field of research and application that determines the way computers can be used to understand and manage natural language text or speech to do useful things.'"
      ]
     },
     "execution_count": 65,
     "metadata": {},
     "output_type": "execute_result"
    }
   ],
   "source": [
    "\"\"\"A natural language or ordinary language is any language that has evolved naturally in humans through use and repetition without conscious planning or premeditation. Natural languages can take different forms, such as written text, speech or signing etc. They are distinguished from constructed and formal language such as those used to program computers or to study logic. Natural language processing (NLP) is a branch of artificial intelligence that helps computers understand, interpret and manipulate human language. NLP draws from many disciplines, including computer science and computational linguistics in its pursuit to fill the gap between human communication and computer understanding. Natural language processing is a field of research and application that determines the way computers can be used to understand and manage natural language text or speech to do useful things.\"\"\""
   ]
  },
  {
   "cell_type": "code",
   "execution_count": 34,
   "metadata": {},
   "outputs": [
    {
     "data": {
      "text/plain": [
       "'A distributed system contains multiple nodes that are physically separate but linked together using the network. All the nodes in this system communicate with each other and handle processes in tandem. Each of these nodes contains a small part of the distributed operating system software.In client server systems, the client requests a resource and the server provides that resource. A server may serve multiple clients at the same time while a client is in contact with only one server. Both the client and server usually communicate via a computer network and so they are a part of distributed systems.The peer to peer systems contains nodes that are equal participants in data sharing. All the tasks are equally divided between all the nodes. The nodes interact with each other as required as share resources. This is done with the help of a network.'"
      ]
     },
     "execution_count": 34,
     "metadata": {},
     "output_type": "execute_result"
    }
   ],
   "source": [
    "\"\"\"A distributed system contains multiple nodes that are physically separate but linked together using the network. All the nodes in this system communicate with each other and handle processes in tandem. Each of these nodes contains a small part of the distributed operating system software.In client server systems, the client requests a resource and the server provides that resource. A server may serve multiple clients at the same time while a client is in contact with only one server. Both the client and server usually communicate via a computer network and so they are a part of distributed systems.The peer to peer systems contains nodes that are equal participants in data sharing. All the tasks are equally divided between all the nodes. The nodes interact with each other as required as share resources. This is done with the help of a network.\"\"\""
   ]
  },
  {
   "cell_type": "code",
   "execution_count": 55,
   "metadata": {},
   "outputs": [
    {
     "data": {
      "text/plain": [
       "'Cloud Computing refers to manipulating, configuring, and accessing the hardware and software resources remotely. Cloud offers online data storage, infrastructure, and application.Cloud computing offers platform independency, as the software is not required to be installed locally on the PC. Hence, the Cloud Computing is making our business applications mobile and collaborative.The concept of Cloud Computing came into existence in the year 1950 with implementation of mainframe computers, accessible via thin/static clients. Since then, cloud computing has been evolved from static clients to dynamic ones and from software to services.'"
      ]
     },
     "execution_count": 55,
     "metadata": {},
     "output_type": "execute_result"
    }
   ],
   "source": [
    "\"\"\"Cloud Computing refers to manipulating, configuring, and accessing the hardware and software resources remotely. Cloud offers online data storage, infrastructure, and application.Cloud computing offers platform independency, as the software is not required to be installed locally on the PC. Hence, the Cloud Computing is making our business applications mobile and collaborative.The concept of Cloud Computing came into existence in the year 1950 with implementation of mainframe computers, accessible via thin/static clients. Since then, cloud computing has been evolved from static clients to dynamic ones and from software to services.\"\"\""
   ]
  },
  {
   "cell_type": "code",
   "execution_count": null,
   "metadata": {},
   "outputs": [],
   "source": []
  }
 ],
 "metadata": {
  "kernelspec": {
   "display_name": "Python 3 (ipykernel)",
   "language": "python",
   "name": "python3"
  },
  "language_info": {
   "codemirror_mode": {
    "name": "ipython",
    "version": 3
   },
   "file_extension": ".py",
   "mimetype": "text/x-python",
   "name": "python",
   "nbconvert_exporter": "python",
   "pygments_lexer": "ipython3",
   "version": "3.10.9"
  }
 },
 "nbformat": 4,
 "nbformat_minor": 2
}
